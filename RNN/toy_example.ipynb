{
 "cells": [
  {
   "cell_type": "code",
   "execution_count": 4,
   "metadata": {},
   "outputs": [],
   "source": [
    "import numpy as np\n",
    "import pandas as pd"
   ]
  },
  {
   "cell_type": "code",
   "execution_count": 253,
   "metadata": {},
   "outputs": [
    {
     "data": {
      "text/plain": [
       "array([[ 1, -1],\n",
       "       [ 1, -1],\n",
       "       [ 1, -1]])"
      ]
     },
     "execution_count": 253,
     "metadata": {},
     "output_type": "execute_result"
    }
   ],
   "source": [
    "x = pd.get_dummies(np.arange(3))\n",
    "x1 = x[0].values.reshape(-1, 1)\n",
    "x2 = x[1].values.reshape(-1, 1)\n",
    "x3 = x[2].values.reshape(-1, 1)\n",
    "\n",
    "w1 = np.repeat(1, 3)\n",
    "w2 = np.repeat(-1, 3)\n",
    "w = np.column_stack([w1, w2])\n",
    "b = np.row_stack([0.3, 0.7])\n",
    "h_0 = np.zeros_like(b)\n",
    "w"
   ]
  },
  {
   "cell_type": "code",
   "execution_count": 41,
   "metadata": {},
   "outputs": [],
   "source": [
    "def sigmoid(x):\n",
    "    return 1/(1 + np.exp(-x))"
   ]
  },
  {
   "cell_type": "code",
   "execution_count": 236,
   "metadata": {},
   "outputs": [],
   "source": [
    "def softmax(x):\n",
    "    return np.exp(x) / np.sum(np.exp(x))"
   ]
  },
  {
   "cell_type": "code",
   "execution_count": 237,
   "metadata": {},
   "outputs": [],
   "source": [
    "def cell(h_t1, x_input):\n",
    "    w_x = np.column_stack([np.repeat(1, 3), np.repeat(-1, 3)])\n",
    "    w_h = np.column_stack([np.repeat(1, 2), np.repeat(0.2, 2)])\n",
    "    b = np.row_stack([0.3, 0.7])\n",
    "    \n",
    "    output = np.matmul(w_h.transpose(), h_t1) + np.matmul(w_x.transpose(), x_input) + b\n",
    "    output = sigmoid(output)\n",
    "    \n",
    "    return output"
   ]
  },
  {
   "cell_type": "code",
   "execution_count": 238,
   "metadata": {},
   "outputs": [],
   "source": [
    "def output_layer(h_layer):\n",
    "    w_out = np.column_stack(([0.3, 0.2], [1, -1], [0.3, 1]))\n",
    "    \n",
    "    b = np.repeat(0.5, 3).reshape(-1, 1)\n",
    "    output = np.dot(w_out.T, h_layer) + b\n",
    "    \n",
    "    return output"
   ]
  },
  {
   "cell_type": "code",
   "execution_count": 250,
   "metadata": {},
   "outputs": [],
   "source": [
    "def RNN(h_previous, x_input):\n",
    "    h_0 = np.zeros(shape=[2, 1])\n",
    "    h_1 = cell(h_previous, x_input)\n",
    "\n",
    "    out = output_layer(h_1)\n",
    "    out = softmax(out)\n",
    "    \n",
    "    return h_1, out"
   ]
  },
  {
   "cell_type": "code",
   "execution_count": 252,
   "metadata": {},
   "outputs": [
    {
     "name": "stdout",
     "output_type": "stream",
     "text": [
      "[[ 0.78583498]\n",
      " [ 0.42555748]]\n",
      "[[ 0.29021031]\n",
      " [ 0.30187752]\n",
      " [ 0.40791216]]\n"
     ]
    }
   ],
   "source": [
    "init_h = np.zeros_like(b)\n",
    "h_11, out1 = RNN(init_h, x1)\n",
    "print(h_11)\n",
    "print(out1)"
   ]
  },
  {
   "cell_type": "code",
   "execution_count": 256,
   "metadata": {},
   "outputs": [
    {
     "name": "stdout",
     "output_type": "stream",
     "text": [
      "[[ 0.92493663]\n",
      " [ 0.48557363]]\n",
      "[[ 0.28235689]\n",
      " [ 0.30124959]\n",
      " [ 0.41639351]]\n"
     ]
    }
   ],
   "source": [
    "h_12, out2 = RNN(h_11, x2)\n",
    "print(h_12)\n",
    "print(out2)"
   ]
  },
  {
   "cell_type": "code",
   "execution_count": 257,
   "metadata": {},
   "outputs": [
    {
     "name": "stdout",
     "output_type": "stream",
     "text": [
      "[[ 0.93764399]\n",
      " [ 0.49552563]]\n",
      "[[ 0.28167754]\n",
      " [ 0.29961041]\n",
      " [ 0.41871205]]\n"
     ]
    }
   ],
   "source": [
    "h_13, out3 = RNN(h_12, x3)\n",
    "print(h_13)\n",
    "print(out3)"
   ]
  }
 ],
 "metadata": {
  "kernelspec": {
   "display_name": "Python 3",
   "language": "python",
   "name": "python3"
  },
  "language_info": {
   "codemirror_mode": {
    "name": "ipython",
    "version": 3
   },
   "file_extension": ".py",
   "mimetype": "text/x-python",
   "name": "python",
   "nbconvert_exporter": "python",
   "pygments_lexer": "ipython3",
   "version": "3.6.6"
  }
 },
 "nbformat": 4,
 "nbformat_minor": 2
}
