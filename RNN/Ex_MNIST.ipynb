{
 "cells": [
  {
   "cell_type": "code",
   "execution_count": 1,
   "metadata": {},
   "outputs": [
    {
     "name": "stdout",
     "output_type": "stream",
     "text": [
      "WARNING:tensorflow:From <ipython-input-1-baacb7d78650>:9: read_data_sets (from tensorflow.contrib.learn.python.learn.datasets.mnist) is deprecated and will be removed in a future version.\n",
      "Instructions for updating:\n",
      "Please use alternatives such as official/mnist/dataset.py from tensorflow/models.\n",
      "WARNING:tensorflow:From /opt/conda/lib/python3.6/site-packages/tensorflow/contrib/learn/python/learn/datasets/mnist.py:260: maybe_download (from tensorflow.contrib.learn.python.learn.datasets.base) is deprecated and will be removed in a future version.\n",
      "Instructions for updating:\n",
      "Please write your own downloading logic.\n",
      "WARNING:tensorflow:From /opt/conda/lib/python3.6/site-packages/tensorflow/contrib/learn/python/learn/datasets/mnist.py:262: extract_images (from tensorflow.contrib.learn.python.learn.datasets.mnist) is deprecated and will be removed in a future version.\n",
      "Instructions for updating:\n",
      "Please use tf.data to implement this functionality.\n",
      "Extracting ../RNN/tmp/data/train-images-idx3-ubyte.gz\n",
      "WARNING:tensorflow:From /opt/conda/lib/python3.6/site-packages/tensorflow/contrib/learn/python/learn/datasets/mnist.py:267: extract_labels (from tensorflow.contrib.learn.python.learn.datasets.mnist) is deprecated and will be removed in a future version.\n",
      "Instructions for updating:\n",
      "Please use tf.data to implement this functionality.\n",
      "Extracting ../RNN/tmp/data/train-labels-idx1-ubyte.gz\n",
      "WARNING:tensorflow:From /opt/conda/lib/python3.6/site-packages/tensorflow/contrib/learn/python/learn/datasets/mnist.py:110: dense_to_one_hot (from tensorflow.contrib.learn.python.learn.datasets.mnist) is deprecated and will be removed in a future version.\n",
      "Instructions for updating:\n",
      "Please use tf.one_hot on tensors.\n",
      "Extracting ../RNN/tmp/data/t10k-images-idx3-ubyte.gz\n",
      "Extracting ../RNN/tmp/data/t10k-labels-idx1-ubyte.gz\n",
      "WARNING:tensorflow:From /opt/conda/lib/python3.6/site-packages/tensorflow/contrib/learn/python/learn/datasets/mnist.py:290: DataSet.__init__ (from tensorflow.contrib.learn.python.learn.datasets.mnist) is deprecated and will be removed in a future version.\n",
      "Instructions for updating:\n",
      "Please use alternatives such as official/mnist/dataset.py from tensorflow/models.\n"
     ]
    }
   ],
   "source": [
    "''' basic package '''\n",
    "import numpy as np\n",
    "from pprint import pprint\n",
    "import matplotlib.pyplot as plt\n",
    "''' tensorflow package '''\n",
    "import tensorflow as tf\n",
    "from tensorflow.examples.tutorials.mnist import input_data\n",
    "from tensorflow.contrib import rnn\n",
    "mnist = input_data.read_data_sets(\"../RNN/tmp/data/\", one_hot=True)"
   ]
  },
  {
   "cell_type": "code",
   "execution_count": 2,
   "metadata": {},
   "outputs": [
    {
     "name": "stdout",
     "output_type": "stream",
     "text": [
      "Label:  [ 0.  0.  0.  1.  0.  0.  0.  0.  0.  0.]\n",
      "Data shape:  (784,)\n"
     ]
    },
    {
     "data": {
      "text/plain": [
       "<matplotlib.image.AxesImage at 0x7f71ac2d6080>"
      ]
     },
     "execution_count": 2,
     "metadata": {},
     "output_type": "execute_result"
    },
    {
     "data": {
      "image/png": "[encoded data removed]",
      "text/plain": [
       "<Figure size 432x288 with 1 Axes>"
      ]
     },
     "metadata": {
      "needs_background": "light"
     },
     "output_type": "display_data"
    }
   ],
   "source": [
    "#show training data\n",
    "print('Label: ', mnist.train.labels[1])\n",
    "print('Data shape: ', mnist.train.images[1].shape)\n",
    "plt.figure(figsize=(6, 4))\n",
    "plt.imshow(mnist.train.images[1].reshape(28, 28), cmap='binary')"
   ]
  },
  {
   "cell_type": "markdown",
   "metadata": {},
   "source": [
    "# Config"
   ]
  },
  {
   "cell_type": "code",
   "execution_count": 3,
   "metadata": {},
   "outputs": [],
   "source": [
    "time_step = 28\n",
    "n_input = 28\n",
    "hidden_layer_size = 32\n",
    "number_of_layers = 1\n",
    "dropout = True\n",
    "dropout_rate=0.8\n",
    "learning_rate = 0.001\n",
    "n_classes = 10\n",
    "batch_size = 128"
   ]
  },
  {
   "cell_type": "markdown",
   "metadata": {},
   "source": [
    "# Train"
   ]
  },
  {
   "cell_type": "code",
   "execution_count": 4,
   "metadata": {},
   "outputs": [],
   "source": [
    "def RNN_cell(hidden_layer_size, X, number_of_layers, dropout=True, dropout_rate=0.8):\n",
    "    def get_RNN(hidden_layer_size, dropout, dropout_rate):\n",
    "        layer = tf.contrib.rnn.BasicRNNCell(hidden_layer_size)\n",
    "\n",
    "        if dropout:\n",
    "            layer = tf.contrib.rnn.DropoutWrapper(layer, output_keep_prob=dropout_rate)\n",
    "        return layer\n",
    "        \n",
    "    cell = tf.contrib.rnn.MultiRNNCell([get_RNN(hidden_layer_size, dropout, dropout_rate) for _ in range(number_of_layers)])\n",
    "    init_state = cell.zero_state(tf.shape(X)[0], tf.float32)\n",
    "    \n",
    "    return cell, init_state"
   ]
  },
  {
   "cell_type": "markdown",
   "metadata": {},
   "source": [
    "### Tensorflow 靜態圖"
   ]
  },
  {
   "cell_type": "code",
   "execution_count": 6,
   "metadata": {},
   "outputs": [],
   "source": [
    "import tensorflow as tf"
   ]
  },
  {
   "cell_type": "code",
   "execution_count": 42,
   "metadata": {},
   "outputs": [],
   "source": [
    "main_graph = tf.Graph()\n",
    "sess = tf.Session(graph=main_graph)\n",
    "\n",
    "with main_graph.as_default():\n",
    "    \n",
    "    with tf.name_scope('inputs'):\n",
    "        X = tf.placeholder(tf.float32, shape=[None, time_step, n_input], name='X')\n",
    "        y = tf.placeholder(tf.float32, shape=[None, n_classes], name='y')\n",
    "        keep_prob = tf.placeholder(tf.float32, shape=[], name='keep_prob')\n",
    "        \n",
    "    with tf.variable_scope('RNN_layer'):\n",
    "        cell, init_state = RNN_cell(hidden_layer_size, X, number_of_layers, dropout, keep_prob)\n",
    "        outputs, states = tf.nn.dynamic_rnn(cell, X, initial_state=init_state)\n",
    "        \n",
    "    with tf.variable_scope('output_layer'):\n",
    "        RNN_last_outputs = outputs[:, -1, :]\n",
    "        prediction = tf.layers.dense(inputs=RNN_last_outputs, units=10)\n",
    "        \n",
    "    with tf.name_scope('loss'):\n",
    "        loss = tf.reduce_mean(tf.nn.softmax_cross_entropy_with_logits_v2(labels=y, logits=prediction))\n",
    "        \n",
    "    with tf.name_scope('optimizer'):\n",
    "        opti = tf.train.AdamOptimizer(learning_rate).minimize(loss)\n",
    "        \n",
    "    with tf.name_scope('accuracy'):\n",
    "        correct_prediction = tf.equal(tf.argmax(prediction, 1), tf.argmax(y, 1))\n",
    "        accuracy = tf.reduce_mean(tf.cast(correct_prediction, dtype=tf.float32))\n",
    "        \n",
    "    init = tf.global_variables_initializer()"
   ]
  },
  {
   "cell_type": "markdown",
   "metadata": {},
   "source": [
    "### Training Start"
   ]
  },
  {
   "cell_type": "code",
   "execution_count": 44,
   "metadata": {},
   "outputs": [
    {
     "name": "stdout",
     "output_type": "stream",
     "text": [
      "Iter:  200\n",
      "Accuracy:  0.578125 , Loss:  1.31136\n",
      "----------------------------------\n",
      "Iter:  400\n",
      "Accuracy:  0.632812 , Loss:  1.0185\n",
      "----------------------------------\n",
      "Iter:  600\n",
      "Accuracy:  0.820312 , Loss:  0.623844\n",
      "----------------------------------\n",
      "Iter:  800\n",
      "Accuracy:  0.757812 , Loss:  0.864497\n",
      "----------------------------------\n",
      "Iter:  1000\n",
      "Accuracy:  0.6875 , Loss:  0.886214\n",
      "----------------------------------\n"
     ]
    }
   ],
   "source": [
    "sess.run(init)\n",
    "\n",
    "iter = 1\n",
    "while iter < 1001:\n",
    "    batch_X, batch_y = mnist.train.next_batch(batch_size=batch_size)\n",
    "    \n",
    "    batch_X = batch_X.reshape((batch_size, time_step, n_input))\n",
    "    \n",
    "    sess.run(opti, feed_dict={X: batch_X, y: batch_y, keep_prob: 0.8})\n",
    "    \n",
    "    if iter % 200 == 0:\n",
    "        acc, loss_ = sess.run([accuracy, loss], feed_dict={X: batch_X, y: batch_y, keep_prob: 0.8})\n",
    "#         acc=sess.run(accuracy,feed_dict={X:batch_X,y:batch_y, keep_prob: 0.8})\n",
    "        print('Iter: ', iter)\n",
    "        print('Accuracy: ', acc, ', Loss: ', loss_)\n",
    "        print('----------------------------------')\n",
    "    iter += 1"
   ]
  },
  {
   "cell_type": "code",
   "execution_count": 45,
   "metadata": {},
   "outputs": [
    {
     "name": "stdout",
     "output_type": "stream",
     "text": [
      "Test accuracy:  0.773438\n"
     ]
    }
   ],
   "source": [
    "test_X = mnist.test.images[:128].reshape((-1, time_step, n_input))\n",
    "test_y = mnist.test.labels[:128]\n",
    "test_acc = sess.run(accuracy, feed_dict={X: test_X, y: test_y, keep_prob: 1.0})\n",
    "print('Test accuracy: ', test_acc)\n",
    "\n",
    "sess.close()"
   ]
  },
  {
   "cell_type": "markdown",
   "metadata": {},
   "source": [
    "## 練習\n",
    "1. 把RNN cell換成LSTM觀察Accuracy是否會上升?"
   ]
  },
  {
   "cell_type": "code",
   "execution_count": 33,
   "metadata": {},
   "outputs": [],
   "source": [
    "def LSTM_cell(hidden_layer_size, X, number_of_layers, dropout=True, dropout_rate=0.8):\n",
    "    def get_LSTM(hidden_layer_size, dropout, dropout_rate):\n",
    "#         layer = tf.contrib.rnn.LSTMCell(hidden_layer_size)\n",
    "        layer = tf.contrib.rnn.BasicLSTMCell(hidden_layer_size)\n",
    "\n",
    "        if dropout:\n",
    "            layer = tf.contrib.rnn.DropoutWrapper(layer, output_keep_prob=dropout_rate)\n",
    "        return layer\n",
    "        \n",
    "    cell = tf.contrib.rnn.MultiRNNCell([get_LSTM(hidden_layer_size, dropout, dropout_rate) for _ in range(number_of_layers)])\n",
    "    init_state = cell.zero_state(tf.shape(X)[0], tf.float32)\n",
    "    \n",
    "    return cell, init_state"
   ]
  },
  {
   "cell_type": "code",
   "execution_count": 37,
   "metadata": {},
   "outputs": [],
   "source": [
    "main_graph = tf.Graph()\n",
    "sess = tf.Session(graph=main_graph)\n",
    "\n",
    "with main_graph.as_default():\n",
    "    \n",
    "    with tf.name_scope('inputs'):\n",
    "        X = tf.placeholder(tf.float32, shape=[None, time_step, n_input], name='X')\n",
    "        y = tf.placeholder(tf.float32, shape=[None, n_classes], name='y')\n",
    "        keep_prob = tf.placeholder(tf.float32, shape=[], name='keep_prob')\n",
    "        \n",
    "    with tf.variable_scope('LSTM_layer'):\n",
    "        cell, init_state = LSTM_cell(hidden_layer_size, X, number_of_layers, dropout, keep_prob)\n",
    "        outputs, states = tf.nn.dynamic_rnn(cell, X, initial_state=init_state)\n",
    "        \n",
    "    with tf.variable_scope('output_layer'):\n",
    "        LSTM_last_outputs = outputs[:, -1, :]\n",
    "        prediction = tf.layers.dense(inputs=LSTM_last_outputs, units=n_classes)\n",
    "        \n",
    "    with tf.name_scope('loss'):\n",
    "        loss = tf.reduce_mean(tf.nn.softmax_cross_entropy_with_logits_v2(logits=prediction, labels=y))\n",
    "        \n",
    "    with tf.name_scope('optimizer'):\n",
    "        opti = tf.train.AdamOptimizer(learning_rate=learning_rate).minimize(loss)\n",
    "        \n",
    "    with tf.name_scope('accuracy'):\n",
    "        correct_prediction = tf.equal(tf.argmax(prediction, 1), tf.argmax(y, 1))\n",
    "        accuracy = tf.reduce_mean(tf.cast(correct_prediction, tf.float32))\n",
    "        \n",
    "    init = tf.global_variables_initializer()"
   ]
  },
  {
   "cell_type": "markdown",
   "metadata": {},
   "source": [
    "### Training Start"
   ]
  },
  {
   "cell_type": "code",
   "execution_count": 39,
   "metadata": {},
   "outputs": [
    {
     "name": "stdout",
     "output_type": "stream",
     "text": [
      "Iter:  200\n",
      "Accuracy:  0.703125 , Loss:  0.892288\n",
      "----------------------------------\n",
      "Iter:  400\n",
      "Accuracy:  0.84375 , Loss:  0.556373\n",
      "----------------------------------\n",
      "Iter:  600\n",
      "Accuracy:  0.9375 , Loss:  0.273426\n",
      "----------------------------------\n",
      "Iter:  800\n",
      "Accuracy:  0.929688 , Loss:  0.284311\n",
      "----------------------------------\n"
     ]
    }
   ],
   "source": [
    "sess.run(init)\n",
    "\n",
    "iter = 1\n",
    "while iter < 1001:\n",
    "    \n",
    "    batch_X, batch_y = mnist.train.next_batch(batch_size)\n",
    "    batch_X = batch_X.reshape((batch_size, time_step, n_input))\n",
    "    \n",
    "    sess.run(opti, feed_dict={X: batch_X, y: batch_y, keep_prob: 0.8})\n",
    "    \n",
    "    if iter % 200 == 0:\n",
    "        loss_, acc = sess.run([loss, accuracy], feed_dict={X: batch_X, y: batch_y, keep_prob: 0.8})\n",
    "        print('Iter: ', iter)\n",
    "        print('Accuracy: ', acc, ', Loss: ', loss_)\n",
    "        print('----------------------------------')\n",
    "    iter += 1"
   ]
  },
  {
   "cell_type": "code",
   "execution_count": 40,
   "metadata": {},
   "outputs": [
    {
     "name": "stdout",
     "output_type": "stream",
     "text": [
      "Test accuracy:  0.921875\n"
     ]
    }
   ],
   "source": [
    "test_X = mnist.test.images[:128].reshape((-1, time_step, n_input))\n",
    "test_y = mnist.test.labels[:128]\n",
    "test_acc = sess.run(accuracy, feed_dict={X: test_X, y: test_y, keep_prob: 1.0})\n",
    "print('Test accuracy: ', test_acc)\n",
    "\n",
    "sess.close()"
   ]
  },
  {
   "cell_type": "markdown",
   "metadata": {},
   "source": [
    "## 練習\n",
    "2. 把RNN cell換成GRU觀察Accuracy是否會上升?"
   ]
  },
  {
   "cell_type": "code",
   "execution_count": 53,
   "metadata": {},
   "outputs": [],
   "source": [
    "def GRU_cell(hidden_layer_size, X, number_of_layers, dropout=True, dropout_rate=0.8):\n",
    "    def get_GRU(hidden_layer_size, dropout, dropout_rate):\n",
    "        layer = tf.contrib.rnn.GRUCell(hidden_layer_size)\n",
    "        \n",
    "        if dropout:\n",
    "            layer = tf.contrib.rnn.DropoutWrapper(layer, output_keep_prob=dropout_rate)\n",
    "        return layer\n",
    "    cell = tf.contrib.rnn.MultiRNNCell([get_GRU(hidden_layer_size, dropout, dropout_rate) for _ in range(number_of_layers)])\n",
    "    init_state = cell.zero_state(tf.shape(X)[0], tf.float32)\n",
    "    \n",
    "    return cell, init_state"
   ]
  },
  {
   "cell_type": "code",
   "execution_count": 56,
   "metadata": {},
   "outputs": [],
   "source": [
    "main_graph = tf.Graph()\n",
    "sess = tf.Session(graph=main_graph)\n",
    "\n",
    "with main_graph.as_default():\n",
    "    with tf.name_scope('inputs'):\n",
    "        X = tf.placeholder(tf.float32, shape=[None, time_step, n_input], name='X')\n",
    "        y = tf.placeholder(tf.float32, shape=[None, n_classes], name='y')\n",
    "        keep_prob = tf.placeholder(tf.float32, shape=[], name='keep_prob')\n",
    "        \n",
    "    with tf.variable_scope('GRU_layer'):\n",
    "        cell, init_state = GRU_cell(hidden_layer_size, X, number_of_layers, dropout, keep_prob)\n",
    "        outputs, states = tf.nn.dynamic_rnn(cell, X, initial_state=init_state)\n",
    "        \n",
    "    with tf.variable_scope('output_layer'):\n",
    "        GRU_last_layer = outputs[:, -1, :]\n",
    "        prediction = tf.layers.dense(inputs=GRU_last_layer, units=n_classes)\n",
    "        \n",
    "    with tf.variable_scope('loss'):\n",
    "        loss = tf.reduce_mean(tf.nn.softmax_cross_entropy_with_logits_v2(logits=prediction, labels=y))\n",
    "        \n",
    "    with tf.name_scope('optimizer'):\n",
    "        opti = tf.train.AdamOptimizer(learning_rate=learning_rate).minimize(loss)\n",
    "        \n",
    "    with tf.name_scope('accuracy'):\n",
    "        correct_prediction = tf.equal(tf.argmax(prediction, 1), tf.argmax(y, 1))\n",
    "        accuracy = tf.reduce_mean(tf.cast(correct_prediction, tf.float32))\n",
    "        \n",
    "    init = tf.global_variables_initializer()"
   ]
  },
  {
   "cell_type": "code",
   "execution_count": 58,
   "metadata": {},
   "outputs": [
    {
     "name": "stdout",
     "output_type": "stream",
     "text": [
      "Iter:  200\n",
      "Accuracy:  0.65625 , Loss:  0.979548\n",
      "----------------------------------\n",
      "Iter:  400\n",
      "Accuracy:  0.773438 , Loss:  0.694255\n",
      "----------------------------------\n",
      "Iter:  600\n",
      "Accuracy:  0.929688 , Loss:  0.380879\n",
      "----------------------------------\n",
      "Iter:  800\n",
      "Accuracy:  0.953125 , Loss:  0.206276\n",
      "----------------------------------\n",
      "Iter:  1000\n",
      "Accuracy:  0.9375 , Loss:  0.2627\n",
      "----------------------------------\n"
     ]
    }
   ],
   "source": [
    "sess.run(init)\n",
    "\n",
    "iter = 1\n",
    "while iter < 1001:\n",
    "    \n",
    "    batch_X, batch_y = mnist.train.next_batch(batch_size)\n",
    "    batch_X = batch_X.reshape((batch_size, time_step, n_input))\n",
    "    \n",
    "    sess.run(opti, feed_dict={X: batch_X, y: batch_y, keep_prob: 0.8})\n",
    "    \n",
    "    if iter % 200 == 0:\n",
    "        loss_, acc = sess.run([loss, accuracy], feed_dict={X: batch_X, y: batch_y, keep_prob: 0.8})\n",
    "        print('Iter: ', iter)\n",
    "        print('Accuracy: ', acc, ', Loss: ', loss_)\n",
    "        print('----------------------------------')\n",
    "    iter += 1"
   ]
  },
  {
   "cell_type": "code",
   "execution_count": 59,
   "metadata": {},
   "outputs": [
    {
     "name": "stdout",
     "output_type": "stream",
     "text": [
      "Test accuracy:  0.96875\n"
     ]
    }
   ],
   "source": [
    "test_X = mnist.test.images[:128].reshape((-1, time_step, n_input))\n",
    "test_y = mnist.test.labels[:128]\n",
    "test_acc = sess.run(accuracy, feed_dict={X: test_X, y: test_y, keep_prob: 1.0})\n",
    "print('Test accuracy: ', test_acc)\n",
    "\n",
    "sess.close()"
   ]
  },
  {
   "cell_type": "markdown",
   "metadata": {},
   "source": [
    "-----------------------------------------\n",
    "\n",
    "把手寫數字兩張平行輸入到model預測，輸入資料變成time_step = 28, input_data_dimension = 56"
   ]
  },
  {
   "cell_type": "code",
   "execution_count": 63,
   "metadata": {},
   "outputs": [
    {
     "data": {
      "text/plain": [
       "<matplotlib.image.AxesImage at 0x7f71a33e8748>"
      ]
     },
     "execution_count": 63,
     "metadata": {},
     "output_type": "execute_result"
    },
    {
     "data": {
      "image/png": "[encoded data removed]",
      "text/plain": [
       "<Figure size 720x360 with 1 Axes>"
      ]
     },
     "metadata": {
      "needs_background": "light"
     },
     "output_type": "display_data"
    }
   ],
   "source": [
    "plt.figure(figsize=(10, 5))\n",
    "img1 = mnist.train.images[2].reshape(28, 28)\n",
    "img2 = mnist.train.images[3].reshape(28, 28)\n",
    "img = np.concatenate((img1, img2), axis=1)\n",
    "plt.imshow(img, cmap='binary')"
   ]
  },
  {
   "cell_type": "code",
   "execution_count": 64,
   "metadata": {},
   "outputs": [],
   "source": [
    "time_step = 28\n",
    "n_input = 56\n",
    "hidden_layer_size = 32\n",
    "number_of_layers = 1\n",
    "dropout = True\n",
    "dropout_rate=0.8\n",
    "learning_rate = 0.001\n",
    "n_classes = 10\n",
    "batch_size = 128"
   ]
  },
  {
   "cell_type": "code",
   "execution_count": 68,
   "metadata": {},
   "outputs": [],
   "source": [
    "def GRU_cell(hidden_layer_size, X, number_of_layers, dropout=True, dropout_rate=0.8):\n",
    "    def get_GRU(hidden_layer_size, dropout, dropout_rate):\n",
    "        layer = tf.contrib.rnn.GRUCell(hidden_layer_size)\n",
    "        \n",
    "        if dropout:\n",
    "            layer = tf.contrib.rnn.DropoutWrapper(layer, output_keep_prob=dropout_rate)\n",
    "        return layer\n",
    "    cell = tf.contrib.rnn.MultiRNNCell([get_GRU(hidden_layer_size, dropout, dropout_rate) for _ in range(number_of_layers)])\n",
    "    init_state = cell.zero_state(tf.shape(X)[0], tf.float32)\n",
    "    \n",
    "    return cell, init_state\n",
    "\n",
    "def output_layer(outputs, n_classes):\n",
    "    last_layer = outputs[:, -1, :]\n",
    "    prediction = tf.layers.dense(inputs=last_layer, units=n_classes)\n",
    "    \n",
    "    return prediction"
   ]
  },
  {
   "cell_type": "code",
   "execution_count": 70,
   "metadata": {},
   "outputs": [],
   "source": [
    "main_graph = tf.Graph()\n",
    "sess = tf.Session(graph=main_graph)\n",
    "\n",
    "with main_graph.as_default():\n",
    "    with tf.name_scope('inputs'):\n",
    "        X = tf.placeholder(tf.float32, shape=[None, time_step, n_input], name='X')\n",
    "        y1 = tf.placeholder(tf.float32, shape=[None, n_classes], name='y1')\n",
    "        y2 = tf.placeholder(tf.float32, shape=[None, n_classes], name='y2')\n",
    "        keep_prob = tf.placeholder(tf.float32, shape=[], name='keep_prob')\n",
    "        \n",
    "    with tf.variable_scope('GRU_layer'):\n",
    "        cell, init_state = GRU_cell(hidden_layer_size, X, number_of_layers, dropout, keep_prob)\n",
    "        outputs, states = tf.nn.dynamic_rnn(cell, X, initial_state=init_state)\n",
    "        \n",
    "    with tf.variable_scope('output1_layer'):\n",
    "        prediction1 = output_layer(outputs, n_classes)    \n",
    "    with tf.variable_scope('output2_layer'):\n",
    "        prediction2 = output_layer(outputs, n_classes)\n",
    "        \n",
    "    with tf.variable_scope('loss'):\n",
    "        loss1 = tf.reduce_mean(tf.nn.softmax_cross_entropy_with_logits_v2(logits=prediction1, labels=y1))\n",
    "        loss2 = tf.reduce_mean(tf.nn.softmax_cross_entropy_with_logits_v2(logits=prediction2, labels=y2))\n",
    "        loss = loss1 + loss2\n",
    "        \n",
    "    with tf.name_scope('optimizer'):\n",
    "        opti = tf.train.AdamOptimizer(learning_rate=learning_rate).minimize(loss)\n",
    "        \n",
    "    with tf.name_scope('accuracy'):\n",
    "        correct_prediction = tf.logical_and(tf.equal(tf.argmax(prediction1, 1), tf.argmax(y1, 1)), tf.equal(tf.argmax(prediction2, 1), tf.argmax(y2, 1)))\n",
    "        accuracy = tf.reduce_mean(tf.cast(correct_prediction, tf.float32))\n",
    "        \n",
    "    init = tf.global_variables_initializer()"
   ]
  },
  {
   "cell_type": "code",
   "execution_count": 77,
   "metadata": {},
   "outputs": [
    {
     "name": "stdout",
     "output_type": "stream",
     "text": [
      "Iter:  2000\n",
      "Accuracy:  0.710938 , Loss:  0.914318\n",
      "----------------------------------\n",
      "Iter:  4000\n",
      "Accuracy:  0.882812 , Loss:  0.576342\n",
      "----------------------------------\n",
      "Iter:  6000\n",
      "Accuracy:  0.859375 , Loss:  0.566588\n",
      "----------------------------------\n",
      "Iter:  8000\n",
      "Accuracy:  0.882812 , Loss:  0.444667\n",
      "----------------------------------\n",
      "Iter:  10000\n",
      "Accuracy:  0.921875 , Loss:  0.258174\n",
      "----------------------------------\n"
     ]
    }
   ],
   "source": [
    "sess.run(init)\n",
    "\n",
    "iter = 1\n",
    "while iter < 10001:\n",
    "    \n",
    "    batch_X1, batch_y1 = mnist.train.next_batch(batch_size)\n",
    "    batch_X2, batch_y2 = mnist.train.next_batch(batch_size)\n",
    "    batch_X1 = batch_X1.reshape(128, 28, 28)\n",
    "    batch_X2 = batch_X2.reshape(128, 28, 28)\n",
    "    batch_X = np.concatenate((batch_X1, batch_X2), axis=2)\n",
    "    \n",
    "    sess.run(opti, feed_dict={X: batch_X, y1: batch_y1, y2: batch_y2, keep_prob: 0.8})\n",
    "    \n",
    "    if iter % 2000 == 0:\n",
    "        loss_, acc = sess.run([loss, accuracy], feed_dict={X: batch_X, y1: batch_y1, y2: batch_y2, keep_prob: 0.8})\n",
    "        print('Iter: ', iter)\n",
    "        print('Accuracy: ', acc, ', Loss: ', loss_)\n",
    "        print('----------------------------------')\n",
    "    iter += 1"
   ]
  },
  {
   "cell_type": "code",
   "execution_count": null,
   "metadata": {},
   "outputs": [],
   "source": []
  }
 ],
 "metadata": {
  "kernelspec": {
   "display_name": "Python 3",
   "language": "python",
   "name": "python3"
  },
  "language_info": {
   "codemirror_mode": {
    "name": "ipython",
    "version": 3
   },
   "file_extension": ".py",
   "mimetype": "text/x-python",
   "name": "python",
   "nbconvert_exporter": "python",
   "pygments_lexer": "ipython3",
   "version": "3.6.6"
  }
 },
 "nbformat": 4,
 "nbformat_minor": 2
}
