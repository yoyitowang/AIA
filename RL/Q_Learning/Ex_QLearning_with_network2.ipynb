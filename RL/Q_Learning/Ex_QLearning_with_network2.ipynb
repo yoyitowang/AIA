{
 "cells": [
  {
   "cell_type": "code",
   "execution_count": 1,
   "metadata": {},
   "outputs": [
    {
     "name": "stderr",
     "output_type": "stream",
     "text": [
      "C:\\Users\\Yoyo\\Anaconda3\\lib\\site-packages\\h5py\\__init__.py:36: FutureWarning: Conversion of the second argument of issubdtype from `float` to `np.floating` is deprecated. In future, it will be treated as `np.float64 == np.dtype(float).type`.\n",
      "  from ._conv import register_converters as _register_converters\n"
     ]
    }
   ],
   "source": [
    "import tensorflow as tf\n",
    "import numpy as np\n",
    "import pandas as pd\n",
    "import matplotlib.pyplot as plt\n",
    "import sys\n",
    "import gym\n",
    "from qlearning import QLearning"
   ]
  },
  {
   "cell_type": "code",
   "execution_count": null,
   "metadata": {},
   "outputs": [
    {
     "name": "stdout",
     "output_type": "stream",
     "text": [
      "\u001b[33mWARN: gym.spaces.Box autodetected dtype as <class 'numpy.float32'>. Please provide explicit dtype.\u001b[0m\n",
      "2 >> 2 >> 2 >> 2 >> 2 >> 2 >> 2 >> 2 >> 2 >> 2 >> 2 >> 2 >> 2 >> 2 >> 2 >> 2 >> 2 >> 0 >> 0 >> 2 >> 0 >> 0 >> 2 >> 0 >> 2 >> 0 >> 2 >> 0 >> 2 >> 0 >> 2 >> 0 >> 0 >> 2 >> 0 >> 2 >> 0 >> 2 >> 0 >> 0 >> 2 >> 0 >> 2 >> 0 >> 0 >> 1 >> 2 >> 0 >> 0 >> 0 >> 2 >> 2 >> 0 >> 0 >> 0 >> 0 >> 0 >> 0 >> 2 >> 0 >> 0 >> 0 >> 0 >> 2 >> 0 >> 0 >> 0 >> 0 >> 2 >> 0 >> 0 >> 0 >> 1 >> 0 >> 2 >> 0 >> 1 >> 0 >> 1 >> 1 >> 1 >> 0 >> 1 >> 1 >> 1 >> 0 >> 1 >> 1 >> 1 >> 2 >> 1 >> 0 >> 1 >> 1 >> 1 >> 1 >> 1 >> 1 >> 1 >> 1 >> 0 >> 1 >> 2 >> 1 >> 1 >> 1 >> 0 >> 1 >> 2 >> 1 >> 0 >> 1 >> 0 >> 2 >> 1 >> 0 >> 1 >> 2 >> 0 >> 1 >> 1 >> 0 >> 2 >> 0 >> 0 >> 0 >> 2 >> 1 >> 0 >> 1 >> 0 >> 2 >> 0 >> 1 >> 0 >> 1 >> 0 >> 2 >> 1 >> 0 >> 1 >> 0 >> 1 >> 1 >> 0 >> 2 >> 1 >> 0 >> 1 >> 1 >> 0 >> 1 >> 1 >> 2 >> 1 >> 0 >> 1 >> 1 >> 1 >> 1 >> 1 >> 0 >> 1 >> 2 >> 1 >> 1 >> 1 >> 1 >> 1 >> 1 >> 1 >> 1 >> 1 >> 1 >> 1 >> 1 >> 1 >> 1 >> 0 >> 1 >> 1 >> 2 >> 1 >> 1 >> 1 >> 1 >> 2 >> 0 >> 1 >> 0 >> 2 >> 0 >> 1 >> 2 >> 0 >> 1 >> 0 >> 2 >> 0 >> 0 >> 1 >> 2 >> 0 >> 0 >> 1 >> 0 >> 1 >> 2 >> 0 >> 0 >> 0 >> 2 >> 1 >> 0 >> 0 >> 1 >> 0 >> 1 >> 2 >> 0 >> 1 >> 0 >> 1 >> 2 >> 1 >> 2 >> 1 >> 0 >> 1 >> 1 >> 0 >> 1 >> 0 >> 1 >> 1 >> 1 >> 1 >> 1 >> 1 >> 2 >> 1 >> 1 >> 1 >> 1 >> 1 >> 1 >> 1 >> 1 >> "
     ]
    }
   ],
   "source": [
    "env = gym.make('MountainCar-v0')\n",
    "env = env.unwrapped\n",
    "env.seed(1)\n",
    "RL = QLearning(n_actions=env.action_space.n,\n",
    "              n_states=len(env.state),\n",
    "              gamma=0.9,\n",
    "              epsilon=0.9,\n",
    "              lr=0.001)\n",
    "reward_result = []\n",
    "total_reward = 0\n",
    "current_state = env.reset()\n",
    "\n",
    "while True:\n",
    "    env.render()\n",
    "    action = RL.choose_action(current_state)\n",
    "    print(action, end=' >> ')\n",
    "    next_state, reward, done, _ = env.step(action)\n",
    "    RL.learn(current_state, reward, next_state)\n",
    "    total_reward += reward\n",
    "    \n",
    "    if done:\n",
    "        print('Total Reward:{}'.format(total_reward))\n",
    "        reward_result.append(total_reward)\n",
    "        break\n",
    "    \n",
    "    current_state = next_state\n",
    "env.close()"
   ]
  },
  {
   "cell_type": "code",
   "execution_count": null,
   "metadata": {},
   "outputs": [],
   "source": []
  },
  {
   "cell_type": "code",
   "execution_count": null,
   "metadata": {},
   "outputs": [],
   "source": []
  },
  {
   "cell_type": "code",
   "execution_count": null,
   "metadata": {},
   "outputs": [],
   "source": []
  },
  {
   "cell_type": "code",
   "execution_count": null,
   "metadata": {},
   "outputs": [],
   "source": []
  }
 ],
 "metadata": {
  "kernelspec": {
   "display_name": "Python 3",
   "language": "python",
   "name": "python3"
  },
  "language_info": {
   "codemirror_mode": {
    "name": "ipython",
    "version": 3
   },
   "file_extension": ".py",
   "mimetype": "text/x-python",
   "name": "python",
   "nbconvert_exporter": "python",
   "pygments_lexer": "ipython3",
   "version": "3.6.5"
  }
 },
 "nbformat": 4,
 "nbformat_minor": 2
}
